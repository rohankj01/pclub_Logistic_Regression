{
  "nbformat": 4,
  "nbformat_minor": 0,
  "metadata": {
    "colab": {
      "name": "pclub_logistic.ipynb",
      "provenance": [],
      "collapsed_sections": []
    },
    "kernelspec": {
      "name": "python3",
      "display_name": "Python 3"
    },
    "language_info": {
      "name": "python"
    }
  },
  "cells": [
    {
      "cell_type": "code",
      "metadata": {
        "colab": {
          "base_uri": "https://localhost:8080/"
        },
        "id": "zfYK7-W9iRW_",
        "outputId": "a1f54ba2-5898-41e6-eea3-7d48c26388b1"
      },
      "source": [
        "%cd /content/drive/MyDrive/Summers 2021/Deep into CNNs/Shortlist Task"
      ],
      "execution_count": 984,
      "outputs": [
        {
          "output_type": "stream",
          "text": [
            "/content/drive/MyDrive/Summers 2021/Deep into CNNs/Shortlist Task\n"
          ],
          "name": "stdout"
        }
      ]
    },
    {
      "cell_type": "code",
      "metadata": {
        "id": "Jyb8OKMAiDmL"
      },
      "source": [
        "#Importing required Libraries\n",
        "import numpy as np\n",
        "import pandas as pd\n",
        "import matplotlib.pyplot as plt\n",
        "import time\n",
        "import math"
      ],
      "execution_count": 985,
      "outputs": []
    },
    {
      "cell_type": "code",
      "metadata": {
        "colab": {
          "base_uri": "https://localhost:8080/",
          "height": 197
        },
        "id": "OvHYv7NZi3QX",
        "outputId": "8c0b7f96-0505-44ca-c436-a03e97553e36"
      },
      "source": [
        "#Reading the CSV file\n",
        "diabetes = pd.read_csv('/content/drive/MyDrive/Summers 2021/Deep into CNNs/Shortlist Task/diabetes2.csv')\n",
        "diabetes.head(5)"
      ],
      "execution_count": 986,
      "outputs": [
        {
          "output_type": "execute_result",
          "data": {
            "text/html": [
              "<div>\n",
              "<style scoped>\n",
              "    .dataframe tbody tr th:only-of-type {\n",
              "        vertical-align: middle;\n",
              "    }\n",
              "\n",
              "    .dataframe tbody tr th {\n",
              "        vertical-align: top;\n",
              "    }\n",
              "\n",
              "    .dataframe thead th {\n",
              "        text-align: right;\n",
              "    }\n",
              "</style>\n",
              "<table border=\"1\" class=\"dataframe\">\n",
              "  <thead>\n",
              "    <tr style=\"text-align: right;\">\n",
              "      <th></th>\n",
              "      <th>Pregnancies</th>\n",
              "      <th>Glucose</th>\n",
              "      <th>BloodPressure</th>\n",
              "      <th>SkinThickness</th>\n",
              "      <th>Insulin</th>\n",
              "      <th>BMI</th>\n",
              "      <th>DiabetesPedigreeFunction</th>\n",
              "      <th>Age</th>\n",
              "      <th>Outcome</th>\n",
              "    </tr>\n",
              "  </thead>\n",
              "  <tbody>\n",
              "    <tr>\n",
              "      <th>0</th>\n",
              "      <td>6</td>\n",
              "      <td>148</td>\n",
              "      <td>72</td>\n",
              "      <td>35</td>\n",
              "      <td>0</td>\n",
              "      <td>33.6</td>\n",
              "      <td>0.627</td>\n",
              "      <td>50</td>\n",
              "      <td>1</td>\n",
              "    </tr>\n",
              "    <tr>\n",
              "      <th>1</th>\n",
              "      <td>1</td>\n",
              "      <td>85</td>\n",
              "      <td>66</td>\n",
              "      <td>29</td>\n",
              "      <td>0</td>\n",
              "      <td>26.6</td>\n",
              "      <td>0.351</td>\n",
              "      <td>31</td>\n",
              "      <td>0</td>\n",
              "    </tr>\n",
              "    <tr>\n",
              "      <th>2</th>\n",
              "      <td>8</td>\n",
              "      <td>183</td>\n",
              "      <td>64</td>\n",
              "      <td>0</td>\n",
              "      <td>0</td>\n",
              "      <td>23.3</td>\n",
              "      <td>0.672</td>\n",
              "      <td>32</td>\n",
              "      <td>1</td>\n",
              "    </tr>\n",
              "    <tr>\n",
              "      <th>3</th>\n",
              "      <td>1</td>\n",
              "      <td>89</td>\n",
              "      <td>66</td>\n",
              "      <td>23</td>\n",
              "      <td>94</td>\n",
              "      <td>28.1</td>\n",
              "      <td>0.167</td>\n",
              "      <td>21</td>\n",
              "      <td>0</td>\n",
              "    </tr>\n",
              "    <tr>\n",
              "      <th>4</th>\n",
              "      <td>0</td>\n",
              "      <td>137</td>\n",
              "      <td>40</td>\n",
              "      <td>35</td>\n",
              "      <td>168</td>\n",
              "      <td>43.1</td>\n",
              "      <td>2.288</td>\n",
              "      <td>33</td>\n",
              "      <td>1</td>\n",
              "    </tr>\n",
              "  </tbody>\n",
              "</table>\n",
              "</div>"
            ],
            "text/plain": [
              "   Pregnancies  Glucose  BloodPressure  ...  DiabetesPedigreeFunction  Age  Outcome\n",
              "0            6      148             72  ...                     0.627   50        1\n",
              "1            1       85             66  ...                     0.351   31        0\n",
              "2            8      183             64  ...                     0.672   32        1\n",
              "3            1       89             66  ...                     0.167   21        0\n",
              "4            0      137             40  ...                     2.288   33        1\n",
              "\n",
              "[5 rows x 9 columns]"
            ]
          },
          "metadata": {
            "tags": []
          },
          "execution_count": 986
        }
      ]
    },
    {
      "cell_type": "code",
      "metadata": {
        "id": "yVGAJavqGEr9"
      },
      "source": [
        "#Dividing into training and the testing set\n",
        "n_sample = math.floor(diabetes.shape[0]*0.8)\n",
        "# n_sample\n",
        "test = diabetes.sample((n_sample))\n",
        "train = diabetes[~diabetes.isin(test)]\n",
        "train.dropna(inplace = True)"
      ],
      "execution_count": 987,
      "outputs": []
    },
    {
      "cell_type": "code",
      "metadata": {
        "id": "vmq-gJgS96HT"
      },
      "source": [
        "#Dividing between the Input Parameters(X-Set) and Prediction(y-Set)\n",
        "X_tr, y_tr = train[['Pregnancies','Glucose','BloodPressure','SkinThickness','Insulin','BMI','DiabetesPedigreeFunction','Age']], train['Outcome']\n",
        "X_te, y_te = test[['Pregnancies','Glucose','BloodPressure','SkinThickness','Insulin','BMI','DiabetesPedigreeFunction','Age']], test['Outcome']"
      ],
      "execution_count": 988,
      "outputs": []
    },
    {
      "cell_type": "code",
      "metadata": {
        "id": "6kO0ekhmq9PU"
      },
      "source": [
        "#Sigmoid Activation Function\n",
        "def sigmoid(X, weight, bias):\n",
        "    z = np.dot(X, weight) + bias\n",
        "    return 1 / (1+np.exp(-z))"
      ],
      "execution_count": 989,
      "outputs": []
    },
    {
      "cell_type": "code",
      "metadata": {
        "id": "dkZ2AInlsTbp"
      },
      "source": [
        "#Square Loss Function\n",
        "def square_loss(y_pred, target):\n",
        "  return np.mean(pow((y_pred - target),2))"
      ],
      "execution_count": 990,
      "outputs": []
    },
    {
      "cell_type": "code",
      "metadata": {
        "id": "cDkW6nOjRHGw"
      },
      "source": [
        "#Defining Optimization function\n",
        "def optimize(x, y, learning_rate, iterations, parameters):\n",
        "  size = X_tr.shape[0]\n",
        "  weight = parameters[\"weight\"] \n",
        "  bias = parameters[\"bias\"]\n",
        "  for i in range(iterations):\n",
        "    sigma = sigmoid(X_tr, weight, bias)\n",
        "    loss = square_loss(sigma, y_tr)\n",
        "    dW = np.dot(X_tr.T, (sigma - y)) / X_tr.shape[0]\n",
        "    db = np.sum(sigma-y_tr) / y_tr.shape[0]\n",
        "    weight -= learning_rate*dW\n",
        "    bias -=  learning_rate*db\n",
        "    if(i%100==0):\n",
        "      print((\"epoch {}\").format(i))\n",
        "      print(\"Loss = {}\".format(loss))\n",
        "      print(\"Correctness = {}\\n\".format(np.mean(sigma == y_tr)))\n",
        "    parameters[\"weight\"] = weight\n",
        "    parameters[\"bias\"] = bias\n",
        "  return parameters"
      ],
      "execution_count": 997,
      "outputs": []
    },
    {
      "cell_type": "code",
      "metadata": {
        "id": "RphC2dx4WBvR"
      },
      "source": [
        "#Initializing parameters\n",
        "init_parameters = {}\n",
        "init_parameters[\"weight\"] = np.zeros(X_tr.shape[1])\n",
        "init_parameters[\"bias\"] = 0"
      ],
      "execution_count": 998,
      "outputs": []
    },
    {
      "cell_type": "code",
      "metadata": {
        "id": "gWSGOLv6slkm"
      },
      "source": [
        "#Defining Model Train Function\n",
        "def train(x, y, learning_rate, iterations):\n",
        "  parameters_out = optimize(X_tr, y_tr, learning_rate, iterations, init_parameters)\n",
        "  return parameters_out"
      ],
      "execution_count": 999,
      "outputs": []
    },
    {
      "cell_type": "code",
      "metadata": {
        "colab": {
          "base_uri": "https://localhost:8080/"
        },
        "id": "1FcUUGrlVNF8",
        "outputId": "1b8e608d-3ff8-4039-92cf-af6687c9167f"
      },
      "source": [
        "#Training the model\n",
        "parameters_out = train(X_tr, y_tr, learning_rate = 0.01, iterations = 500)"
      ],
      "execution_count": 1000,
      "outputs": [
        {
          "output_type": "stream",
          "text": [
            "epoch 0\n",
            "Loss = 0.25\n",
            "Correctness = 0.0\n",
            "\n",
            "epoch 100\n",
            "Loss = 0.3831168830094777\n",
            "Correctness = 0.006493506493506494\n",
            "\n",
            "epoch 200\n",
            "Loss = 0.3831168788667246\n",
            "Correctness = 0.0\n",
            "\n",
            "epoch 300\n",
            "Loss = 0.38311688311687264\n",
            "Correctness = 0.01948051948051948\n",
            "\n",
            "epoch 400\n",
            "Loss = 0.383116883116883\n",
            "Correctness = 0.01948051948051948\n",
            "\n"
          ],
          "name": "stdout"
        }
      ]
    },
    {
      "cell_type": "code",
      "metadata": {
        "id": "KYpF-UlbO7yU"
      },
      "source": [
        "#Testing the model\n",
        "predictions = sigmoid(X_te, parameters_out[\"weight\"], parameters_out[\"bias\"]) >= 1/2"
      ],
      "execution_count": 1001,
      "outputs": []
    },
    {
      "cell_type": "code",
      "metadata": {
        "colab": {
          "base_uri": "https://localhost:8080/"
        },
        "id": "Z3Tglgr-lLAS",
        "outputId": "7533c33a-30f8-4980-c801-2e84d54bfbdb"
      },
      "source": [
        "#Printing Final Values\n",
        "Correct = np.sum(predictions == y_te)\n",
        "Total = len(predictions)\n",
        "percent_Accuracy = np.mean(predictions == y_te)*100\n",
        "\n",
        "print(\"{}/{} (%{})\".format(Correct, Total, percent_Accuracy ))"
      ],
      "execution_count": 1002,
      "outputs": [
        {
          "output_type": "stream",
          "text": [
            "401/614 (%65.30944625407166)\n"
          ],
          "name": "stdout"
        }
      ]
    },
    {
      "cell_type": "code",
      "metadata": {
        "id": "krlznoQwmixe"
      },
      "source": [
        ""
      ],
      "execution_count": null,
      "outputs": []
    }
  ]
}